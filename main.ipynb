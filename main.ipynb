{
 "cells": [
  {
   "cell_type": "markdown",
   "metadata": {},
   "source": [
    "# Easy-Train Chatbot"
   ]
  },
  {
   "cell_type": "markdown",
   "metadata": {},
   "source": [
    "## Installing Dependancies\n",
    "When you first run this project, it will be necessary to install the packages that this project depends on. To simplify this, we have used the -r flag to read the file `requirements.txt`. This file will have all the packages and their version numbers seperated by new lines so that we can just read from this file and update it as we see fit."
   ]
  },
  {
   "cell_type": "code",
   "execution_count": null,
   "metadata": {},
   "outputs": [],
   "source": [
    "# Run this block to install the necessary dependancies\n",
    "%pip install -r requirements.txt"
   ]
  },
  {
   "cell_type": "markdown",
   "metadata": {},
   "source": [
    "## Importing Libraries\n",
    "Next, we need to import the packages into the program. Installing them means that we have downloaded them to our computer, imoprting them means our code will be able to access all of the contents of those packages when we call on them later in the code. "
   ]
  },
  {
   "cell_type": "code",
   "execution_count": 2,
   "metadata": {},
   "outputs": [],
   "source": [
    "# Use this block to import the functions that will be used in this program.\n",
    "    # Note: import PACKAGE_NAME will import the whole package and all of its contents, \n",
    "    #       from PACKAGE_NAME import THING will import a specific thing from that package and not the whole package.\n",
    "    #  This is an important distinction when using large packages as having the whole package available when you are only using a small part of it can slow down your code.\n",
    "import numpy as np\n",
    "import pandas as pd"
   ]
  },
  {
   "cell_type": "code",
   "execution_count": null,
   "metadata": {},
   "outputs": [],
   "source": [
    "dataset = pd.read_csv('datasets/demoDataset.csv')\n",
    "dataset.head() # Previews the top 5 rows"
   ]
  },
  {
   "cell_type": "markdown",
   "metadata": {},
   "source": [
    "# Data Parsing\n",
    "This is where we will preprocess the data for the model to take in. Working with a language model, we need to convert the text to numbers. To do this, we can use techniques like number mapping or vectorizing."
   ]
  },
  {
   "cell_type": "code",
   "execution_count": 39,
   "metadata": {},
   "outputs": [],
   "source": [
    "# Caching a copy of the dataset to be modified\n",
    "parsedDb = dataset"
   ]
  },
  {
   "cell_type": "code",
   "execution_count": 43,
   "metadata": {},
   "outputs": [
    {
     "data": {
      "text/plain": [
       "18"
      ]
     },
     "execution_count": 43,
     "metadata": {},
     "output_type": "execute_result"
    }
   ],
   "source": [
    "# Getting a list of all unique responses and mapping them to their index in the list\n",
    "AnswerKey = dataset[' Response'].unique()\n",
    "\n",
    "print(AnswerKey)\n",
    "print(f\"The answer key has {len(AnswerKey)} unique keys.\")"
   ]
  },
  {
   "cell_type": "code",
   "execution_count": null,
   "metadata": {},
   "outputs": [],
   "source": [
    "# Using the Sci-Kit Learn CountVectorizer to parse the Questions\n",
    "from sklearn.feature_extraction.text import CountVectorizer\n",
    "vectorizer = CountVectorizer()\n",
    "tokenized_questions = vectorizer.fit_transform(dataset['Question'])\n",
    "tokenized_questions = tokenized_questions.toarray()\n",
    "\n",
    "# Appending the vectorized questions to the dataset\n",
    "tokenized_questions_df = pd.DataFrame(tokenized_questions, columns=vectorizer.get_feature_names_out())\n",
    "\n",
    "parsedDb['question_tokenized'] = tokenized_questions_df.values.tolist()\n",
    "\n",
    "parsedDb"
   ]
  },
  {
   "cell_type": "code",
   "execution_count": 42,
   "metadata": {},
   "outputs": [
    {
     "data": {
      "text/html": [
       "<div>\n",
       "<style scoped>\n",
       "    .dataframe tbody tr th:only-of-type {\n",
       "        vertical-align: middle;\n",
       "    }\n",
       "\n",
       "    .dataframe tbody tr th {\n",
       "        vertical-align: top;\n",
       "    }\n",
       "\n",
       "    .dataframe thead th {\n",
       "        text-align: right;\n",
       "    }\n",
       "</style>\n",
       "<table border=\"1\" class=\"dataframe\">\n",
       "  <thead>\n",
       "    <tr style=\"text-align: right;\">\n",
       "      <th></th>\n",
       "      <th>Question</th>\n",
       "      <th>Response</th>\n",
       "      <th>question_tokenized</th>\n",
       "      <th>AnswerKey</th>\n",
       "    </tr>\n",
       "  </thead>\n",
       "  <tbody>\n",
       "    <tr>\n",
       "      <th>0</th>\n",
       "      <td>Where is the ILC?</td>\n",
       "      <td>On Union and Division</td>\n",
       "      <td>[0, 0, 0, 0, 0, 0, 0, 0, 0, 0, 0, 0, 0, 0, 0, ...</td>\n",
       "      <td>0</td>\n",
       "    </tr>\n",
       "    <tr>\n",
       "      <th>1</th>\n",
       "      <td>Where is Mithcel?</td>\n",
       "      <td>University and Union</td>\n",
       "      <td>[0, 0, 0, 0, 0, 0, 0, 0, 0, 0, 0, 0, 0, 0, 0, ...</td>\n",
       "      <td>1</td>\n",
       "    </tr>\n",
       "    <tr>\n",
       "      <th>2</th>\n",
       "      <td>Where is Clark Hall?</td>\n",
       "      <td>Fifth Street</td>\n",
       "      <td>[0, 0, 0, 0, 0, 0, 0, 0, 1, 0, 0, 0, 0, 0, 0, ...</td>\n",
       "      <td>2</td>\n",
       "    </tr>\n",
       "    <tr>\n",
       "      <th>3</th>\n",
       "      <td>Where is Biosci?</td>\n",
       "      <td>Barrie Street</td>\n",
       "      <td>[0, 0, 0, 0, 0, 1, 0, 0, 0, 0, 0, 0, 0, 0, 0, ...</td>\n",
       "      <td>3</td>\n",
       "    </tr>\n",
       "    <tr>\n",
       "      <th>4</th>\n",
       "      <td>Where is Victoria Hall?</td>\n",
       "      <td>Bader Lane</td>\n",
       "      <td>[0, 0, 0, 0, 0, 0, 0, 0, 0, 0, 0, 0, 0, 0, 0, ...</td>\n",
       "      <td>4</td>\n",
       "    </tr>\n",
       "    <tr>\n",
       "      <th>5</th>\n",
       "      <td>Where is Stauffer?</td>\n",
       "      <td>University and Union</td>\n",
       "      <td>[0, 0, 0, 0, 0, 0, 0, 0, 0, 0, 0, 0, 0, 0, 0, ...</td>\n",
       "      <td>1</td>\n",
       "    </tr>\n",
       "    <tr>\n",
       "      <th>6</th>\n",
       "      <td>Where is Goodes Hall?</td>\n",
       "      <td>Union and Alfred</td>\n",
       "      <td>[0, 0, 0, 0, 0, 0, 0, 0, 0, 0, 0, 0, 0, 0, 1, ...</td>\n",
       "      <td>5</td>\n",
       "    </tr>\n",
       "    <tr>\n",
       "      <th>7</th>\n",
       "      <td>Where is Douglas Library?</td>\n",
       "      <td>University and Union</td>\n",
       "      <td>[0, 0, 0, 0, 0, 0, 0, 0, 0, 1, 0, 0, 0, 0, 0, ...</td>\n",
       "      <td>1</td>\n",
       "    </tr>\n",
       "    <tr>\n",
       "      <th>8</th>\n",
       "      <td>Where is Stirling Hall?</td>\n",
       "      <td>Bader Lane</td>\n",
       "      <td>[0, 0, 0, 0, 0, 0, 0, 0, 0, 0, 0, 0, 0, 0, 0, ...</td>\n",
       "      <td>4</td>\n",
       "    </tr>\n",
       "    <tr>\n",
       "      <th>9</th>\n",
       "      <td>Where is Dunning?</td>\n",
       "      <td>University and Union</td>\n",
       "      <td>[0, 0, 0, 0, 0, 0, 0, 0, 0, 0, 1, 0, 0, 0, 0, ...</td>\n",
       "      <td>1</td>\n",
       "    </tr>\n",
       "    <tr>\n",
       "      <th>10</th>\n",
       "      <td>Where is Union Gallery?</td>\n",
       "      <td>Alfred Street</td>\n",
       "      <td>[0, 0, 0, 0, 0, 0, 0, 0, 0, 0, 0, 0, 0, 1, 0, ...</td>\n",
       "      <td>6</td>\n",
       "    </tr>\n",
       "    <tr>\n",
       "      <th>11</th>\n",
       "      <td>Where is Watts Hall?</td>\n",
       "      <td>Stuart and Albert</td>\n",
       "      <td>[0, 0, 0, 0, 0, 0, 0, 0, 0, 0, 0, 0, 0, 0, 0, ...</td>\n",
       "      <td>7</td>\n",
       "    </tr>\n",
       "    <tr>\n",
       "      <th>12</th>\n",
       "      <td>Where is Ambrasky Hall?</td>\n",
       "      <td>Arch Street</td>\n",
       "      <td>[0, 1, 0, 0, 0, 0, 0, 0, 0, 0, 0, 0, 0, 0, 0, ...</td>\n",
       "      <td>8</td>\n",
       "    </tr>\n",
       "    <tr>\n",
       "      <th>13</th>\n",
       "      <td>Where is Walter Light Hall?</td>\n",
       "      <td>At Union and Arch Street</td>\n",
       "      <td>[0, 0, 0, 0, 0, 0, 0, 0, 0, 0, 0, 0, 0, 0, 0, ...</td>\n",
       "      <td>9</td>\n",
       "    </tr>\n",
       "    <tr>\n",
       "      <th>14</th>\n",
       "      <td>Where is Chernoff Hall?</td>\n",
       "      <td>Bader Lane</td>\n",
       "      <td>[0, 0, 0, 0, 0, 0, 0, 1, 0, 0, 0, 0, 0, 0, 0, ...</td>\n",
       "      <td>4</td>\n",
       "    </tr>\n",
       "    <tr>\n",
       "      <th>15</th>\n",
       "      <td>Where is Agnes Etherington Art Center?</td>\n",
       "      <td>University Ave</td>\n",
       "      <td>[1, 0, 1, 0, 0, 0, 1, 0, 0, 0, 0, 0, 1, 0, 0, ...</td>\n",
       "      <td>10</td>\n",
       "    </tr>\n",
       "    <tr>\n",
       "      <th>16</th>\n",
       "      <td>Ban Righ Center?</td>\n",
       "      <td>Bader Lane</td>\n",
       "      <td>[0, 0, 0, 1, 0, 0, 1, 0, 0, 0, 0, 0, 0, 0, 0, ...</td>\n",
       "      <td>4</td>\n",
       "    </tr>\n",
       "    <tr>\n",
       "      <th>17</th>\n",
       "      <td>Where is Mclaughlin Hall?</td>\n",
       "      <td>Stuart and Lower University Ave</td>\n",
       "      <td>[0, 0, 0, 0, 0, 0, 0, 0, 0, 0, 0, 0, 0, 0, 0, ...</td>\n",
       "      <td>11</td>\n",
       "    </tr>\n",
       "    <tr>\n",
       "      <th>18</th>\n",
       "      <td>Where is Dupuis?</td>\n",
       "      <td>At Union and Division</td>\n",
       "      <td>[0, 0, 0, 0, 0, 0, 0, 0, 0, 0, 0, 1, 0, 0, 0, ...</td>\n",
       "      <td>12</td>\n",
       "    </tr>\n",
       "    <tr>\n",
       "      <th>19</th>\n",
       "      <td>Where is Grant Hall?</td>\n",
       "      <td>University Avenue</td>\n",
       "      <td>[0, 0, 0, 0, 0, 0, 0, 0, 0, 0, 0, 0, 0, 0, 0, ...</td>\n",
       "      <td>13</td>\n",
       "    </tr>\n",
       "    <tr>\n",
       "      <th>20</th>\n",
       "      <td>Where is Beamish Munro Hall?</td>\n",
       "      <td>Union Street</td>\n",
       "      <td>[0, 0, 0, 0, 1, 0, 0, 0, 0, 0, 0, 0, 0, 0, 0, ...</td>\n",
       "      <td>14</td>\n",
       "    </tr>\n",
       "    <tr>\n",
       "      <th>21</th>\n",
       "      <td>Where is Leggett Hall?</td>\n",
       "      <td>Stuart and St Lawrence Avenue</td>\n",
       "      <td>[0, 0, 0, 0, 0, 0, 0, 0, 0, 0, 0, 0, 0, 0, 0, ...</td>\n",
       "      <td>15</td>\n",
       "    </tr>\n",
       "    <tr>\n",
       "      <th>22</th>\n",
       "      <td>Where is Leonard Hall?</td>\n",
       "      <td>Queens Cres and Collingwood St</td>\n",
       "      <td>[0, 0, 0, 0, 0, 0, 0, 0, 0, 0, 0, 0, 0, 0, 0, ...</td>\n",
       "      <td>16</td>\n",
       "    </tr>\n",
       "    <tr>\n",
       "      <th>23</th>\n",
       "      <td>Where is Ontario Hall</td>\n",
       "      <td>University Street</td>\n",
       "      <td>[0, 0, 0, 0, 0, 0, 0, 0, 0, 0, 0, 0, 0, 0, 0, ...</td>\n",
       "      <td>17</td>\n",
       "    </tr>\n",
       "  </tbody>\n",
       "</table>\n",
       "</div>"
      ],
      "text/plain": [
       "                                  Question                         Response  \\\n",
       "0                        Where is the ILC?            On Union and Division   \n",
       "1                        Where is Mithcel?             University and Union   \n",
       "2                     Where is Clark Hall?                     Fifth Street   \n",
       "3                         Where is Biosci?                    Barrie Street   \n",
       "4                  Where is Victoria Hall?                       Bader Lane   \n",
       "5                       Where is Stauffer?             University and Union   \n",
       "6                    Where is Goodes Hall?                 Union and Alfred   \n",
       "7                Where is Douglas Library?             University and Union   \n",
       "8                  Where is Stirling Hall?                       Bader Lane   \n",
       "9                        Where is Dunning?             University and Union   \n",
       "10                Where is Union Gallery?                     Alfred Street   \n",
       "11                    Where is Watts Hall?                Stuart and Albert   \n",
       "12                 Where is Ambrasky Hall?                      Arch Street   \n",
       "13             Where is Walter Light Hall?         At Union and Arch Street   \n",
       "14                Where is Chernoff Hall?                        Bader Lane   \n",
       "15  Where is Agnes Etherington Art Center?                   University Ave   \n",
       "16                        Ban Righ Center?                       Bader Lane   \n",
       "17               Where is Mclaughlin Hall?  Stuart and Lower University Ave   \n",
       "18                        Where is Dupuis?            At Union and Division   \n",
       "19                    Where is Grant Hall?               University Avenue    \n",
       "20            Where is Beamish Munro Hall?                     Union Street   \n",
       "21                  Where is Leggett Hall?    Stuart and St Lawrence Avenue   \n",
       "22                  Where is Leonard Hall?   Queens Cres and Collingwood St   \n",
       "23                   Where is Ontario Hall                University Street   \n",
       "\n",
       "                                   question_tokenized  AnswerKey  \n",
       "0   [0, 0, 0, 0, 0, 0, 0, 0, 0, 0, 0, 0, 0, 0, 0, ...          0  \n",
       "1   [0, 0, 0, 0, 0, 0, 0, 0, 0, 0, 0, 0, 0, 0, 0, ...          1  \n",
       "2   [0, 0, 0, 0, 0, 0, 0, 0, 1, 0, 0, 0, 0, 0, 0, ...          2  \n",
       "3   [0, 0, 0, 0, 0, 1, 0, 0, 0, 0, 0, 0, 0, 0, 0, ...          3  \n",
       "4   [0, 0, 0, 0, 0, 0, 0, 0, 0, 0, 0, 0, 0, 0, 0, ...          4  \n",
       "5   [0, 0, 0, 0, 0, 0, 0, 0, 0, 0, 0, 0, 0, 0, 0, ...          1  \n",
       "6   [0, 0, 0, 0, 0, 0, 0, 0, 0, 0, 0, 0, 0, 0, 1, ...          5  \n",
       "7   [0, 0, 0, 0, 0, 0, 0, 0, 0, 1, 0, 0, 0, 0, 0, ...          1  \n",
       "8   [0, 0, 0, 0, 0, 0, 0, 0, 0, 0, 0, 0, 0, 0, 0, ...          4  \n",
       "9   [0, 0, 0, 0, 0, 0, 0, 0, 0, 0, 1, 0, 0, 0, 0, ...          1  \n",
       "10  [0, 0, 0, 0, 0, 0, 0, 0, 0, 0, 0, 0, 0, 1, 0, ...          6  \n",
       "11  [0, 0, 0, 0, 0, 0, 0, 0, 0, 0, 0, 0, 0, 0, 0, ...          7  \n",
       "12  [0, 1, 0, 0, 0, 0, 0, 0, 0, 0, 0, 0, 0, 0, 0, ...          8  \n",
       "13  [0, 0, 0, 0, 0, 0, 0, 0, 0, 0, 0, 0, 0, 0, 0, ...          9  \n",
       "14  [0, 0, 0, 0, 0, 0, 0, 1, 0, 0, 0, 0, 0, 0, 0, ...          4  \n",
       "15  [1, 0, 1, 0, 0, 0, 1, 0, 0, 0, 0, 0, 1, 0, 0, ...         10  \n",
       "16  [0, 0, 0, 1, 0, 0, 1, 0, 0, 0, 0, 0, 0, 0, 0, ...          4  \n",
       "17  [0, 0, 0, 0, 0, 0, 0, 0, 0, 0, 0, 0, 0, 0, 0, ...         11  \n",
       "18  [0, 0, 0, 0, 0, 0, 0, 0, 0, 0, 0, 1, 0, 0, 0, ...         12  \n",
       "19  [0, 0, 0, 0, 0, 0, 0, 0, 0, 0, 0, 0, 0, 0, 0, ...         13  \n",
       "20  [0, 0, 0, 0, 1, 0, 0, 0, 0, 0, 0, 0, 0, 0, 0, ...         14  \n",
       "21  [0, 0, 0, 0, 0, 0, 0, 0, 0, 0, 0, 0, 0, 0, 0, ...         15  \n",
       "22  [0, 0, 0, 0, 0, 0, 0, 0, 0, 0, 0, 0, 0, 0, 0, ...         16  \n",
       "23  [0, 0, 0, 0, 0, 0, 0, 0, 0, 0, 0, 0, 0, 0, 0, ...         17  "
      ]
     },
     "execution_count": 42,
     "metadata": {},
     "output_type": "execute_result"
    }
   ],
   "source": [
    "# Adding a column with the index of each answer in the AnswerKey\n",
    "keyCol = []\n",
    "\n",
    "for i in range(len(dataset[' Response'])):\n",
    "    ans = dataset[' Response'][i]\n",
    "\n",
    "    for j in range(len(AnswerKey)):\n",
    "        if ans == AnswerKey[j]:\n",
    "            index = j\n",
    "\n",
    "    keyCol.append(index)\n",
    "\n",
    "parsedDb['AnswerKey'] = keyCol\n",
    "\n",
    "parsedDb"
   ]
  },
  {
   "cell_type": "code",
   "execution_count": null,
   "metadata": {},
   "outputs": [],
   "source": [
    "# Save the newly parsed dataset to a csv file to load in next time\n",
    "dataset = parsedDb\n",
    "dataset.to_csv('Parsed_Demo_Dataset', sep='\\n')"
   ]
  },
  {
   "cell_type": "code",
   "execution_count": null,
   "metadata": {},
   "outputs": [],
   "source": [
    "# Load in existing dataset file\n",
    "dataset = pd.read_csv('datasets/FILENAME.csv')"
   ]
  },
  {
   "cell_type": "markdown",
   "metadata": {},
   "source": [
    "# Building the Model\n",
    "\n",
    "This is where we will build and impliment different models which will relate our inputs and outputs. \n",
    "\n",
    "`Feel free to make multiple code blocks to test out how different models perform on the same dataset.`"
   ]
  },
  {
   "cell_type": "code",
   "execution_count": 53,
   "metadata": {},
   "outputs": [
    {
     "name": "stdout",
     "output_type": "stream",
     "text": [
      "[2]\n"
     ]
    }
   ],
   "source": [
    "# Importing the model from Sci-Kit Learn\n",
    "from sklearn.naive_bayes import GaussianNB\n",
    "\n",
    "# Splitting the data into the inputs (x) and outputs (y).\n",
    "x = dataset['question_tokenized'].to_list()\n",
    "y = dataset['AnswerKey'].to_list()\n",
    "\n",
    "# Creating an instance of the model\n",
    "model = GaussianNB()\n",
    "# Fitting the model to the data\n",
    "model.fit(x,y)\n",
    "\n",
    "# Running a model prediction on the thrid question in the dataset\n",
    "print(model.predict([x[2]]))"
   ]
  },
  {
   "cell_type": "markdown",
   "metadata": {},
   "source": [
    "## Evaluating the Performance of the Model\n",
    "Once a model is output from the previous block, we will need to evaluate this model against some metrics to act as quality control. These metrics will be defined as a group and will help us gage how well our program is working."
   ]
  },
  {
   "cell_type": "code",
   "execution_count": null,
   "metadata": {},
   "outputs": [],
   "source": [
    "# Create methods of testing the model against some metrics to see how well it is performing. \n"
   ]
  },
  {
   "cell_type": "markdown",
   "metadata": {},
   "source": [
    "## Testing Interface\n",
    "The testing interface is for debugging and interaction. This should be where we as the programmers can interact with the model and give it prompts and see the responses. For now, it will run within the notebook but if we have time, we can develop a seperate GUI that will let us chat with the bot in a more user-friendly manner."
   ]
  },
  {
   "cell_type": "code",
   "execution_count": null,
   "metadata": {},
   "outputs": [],
   "source": [
    "# Take in user input for the prompt, pass it through the model, and display the otuput\n"
   ]
  }
 ],
 "metadata": {
  "kernelspec": {
   "display_name": "Python 3",
   "language": "python",
   "name": "python3"
  },
  "language_info": {
   "codemirror_mode": {
    "name": "ipython",
    "version": 3
   },
   "file_extension": ".py",
   "mimetype": "text/x-python",
   "name": "python",
   "nbconvert_exporter": "python",
   "pygments_lexer": "ipython3",
   "version": "3.9.13"
  }
 },
 "nbformat": 4,
 "nbformat_minor": 2
}
